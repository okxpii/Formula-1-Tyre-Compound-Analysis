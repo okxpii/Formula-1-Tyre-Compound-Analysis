{
 "cells": [
  {
   "cell_type": "code",
   "execution_count": 47,
   "metadata": {},
   "outputs": [],
   "source": [
    "\n",
    "import fastf1 as ff1\n",
    "from fastf1 import plotting\n",
    "from matplotlib import pyplot as plt\n",
    "from matplotlib.pyplot import figure\n",
    "import numpy as np\n",
    "import pandas as pd\n",
    "import matplotlib.style as stl\n",
    "stl.use('dark_background')"
   ]
  },
  {
   "cell_type": "code",
   "execution_count": 48,
   "metadata": {},
   "outputs": [],
   "source": [
    "ff1.Cache.enable_cache('/Users/javi/Library/Caches')"
   ]
  },
  {
   "cell_type": "code",
   "execution_count": 49,
   "metadata": {},
   "outputs": [],
   "source": [
    "pd.options.mode.chained_assignment = None"
   ]
  },
  {
   "cell_type": "code",
   "execution_count": 64,
   "metadata": {},
   "outputs": [
    {
     "name": "stderr",
     "output_type": "stream",
     "text": [
      "/usr/local/lib/python3.9/site-packages/fastf1/core.py:1093: FutureWarning: `Session.load_laps` is deprecated and will beremoved in a future version.\n",
      "Use `Session.load` instead.\n",
      "  warnings.warn(\"`Session.load_laps` is deprecated and will be\"\n",
      "core           INFO \tLoading data for Australian Grand Prix - Race [v2.2.1]\n",
      "api            INFO \tUsing cached data for driver_info\n",
      "api            INFO \tUsing cached data for timing_data\n",
      "api            INFO \tUsing cached data for timing_app_data\n",
      "core           INFO \tProcessing timing data...\n",
      "api            INFO \tUsing cached data for session_status_data\n",
      "api            INFO \tUsing cached data for track_status_data\n",
      "api            INFO \tUsing cached data for car_data\n",
      "api            INFO \tUsing cached data for position_data\n",
      "api            INFO \tUsing cached data for weather_data\n",
      "core           INFO \tFinished loading data for 20 drivers: ['16', '11', '63', '44', '4', '3', '31', '77', '10', '23', '24', '18', '47', '20', '22', '6', '14', '1', '5', '55']\n"
     ]
    }
   ],
   "source": [
    "year = 2022\n",
    "circuit = 'Australia'\n",
    "\n",
    "# Load the session data\n",
    "race = ff1.get_session(year, circuit, 'R')\n",
    "laps = race.load_laps(with_telemetry=True)"
   ]
  },
  {
   "cell_type": "code",
   "execution_count": 51,
   "metadata": {},
   "outputs": [],
   "source": [
    "driver_stints = laps[['Driver', 'Stint', 'Compound', 'LapNumber']].groupby(\n",
    "    ['Driver', 'Stint', 'Compound']\n",
    ").count().reset_index()"
   ]
  },
  {
   "cell_type": "code",
   "execution_count": 52,
   "metadata": {},
   "outputs": [],
   "source": [
    "driver_stints = driver_stints.rename(columns={'LapNumber': 'StintLength'})\n",
    "\n",
    "driver_stints = driver_stints.sort_values(by=['Stint'])"
   ]
  },
  {
   "cell_type": "code",
   "execution_count": 53,
   "metadata": {},
   "outputs": [],
   "source": [
    "compound_colors = {\n",
    "    'SOFT': '#FF3333',\n",
    "    'MEDIUM': '#FFF200',\n",
    "    'HARD': '#EBEBEB',\n",
    "    'INTERMEDIATE': '#39B54A',\n",
    "    'WET': '#00AEEF',\n",
    "}"
   ]
  },
  {
   "cell_type": "code",
   "execution_count": 66,
   "metadata": {},
   "outputs": [
    {
     "data": {
      "text/plain": [
       "16    LEC\n",
       "11    PER\n",
       "63    RUS\n",
       "44    HAM\n",
       "4     NOR\n",
       "3     RIC\n",
       "31    OCO\n",
       "77    BOT\n",
       "10    GAS\n",
       "23    ALB\n",
       "24    ZHO\n",
       "18    STR\n",
       "47    MSC\n",
       "20    MAG\n",
       "22    TSU\n",
       "6     LAT\n",
       "14    ALO\n",
       "1     VER\n",
       "5     VET\n",
       "55    SAI\n",
       "Name: Abbreviation, dtype: object"
      ]
     },
     "execution_count": 66,
     "metadata": {},
     "output_type": "execute_result"
    }
   ],
   "source": [
    "race.results.Abbreviation"
   ]
  },
  {
   "cell_type": "code",
   "execution_count": 65,
   "metadata": {},
   "outputs": [
    {
     "name": "stdout",
     "output_type": "stream",
     "text": [
      "DriverNumber\n",
      "BroadcastName\n",
      "Abbreviation\n",
      "TeamName\n",
      "TeamColor\n",
      "FirstName\n",
      "LastName\n",
      "FullName\n",
      "Position\n",
      "GridPosition\n",
      "Q1\n",
      "Q2\n",
      "Q3\n",
      "Time\n",
      "Status\n",
      "Points\n"
     ]
    }
   ],
   "source": [
    "# race = race.results\n",
    "for driver in race.results.Abbreviation:\n",
    "    print(driver)"
   ]
  },
  {
   "cell_type": "code",
   "execution_count": 69,
   "metadata": {},
   "outputs": [
    {
     "name": "stdout",
     "output_type": "stream",
     "text": [
      "   Driver  Stint Compound  StintLength\n",
      "14    LEC      1   MEDIUM           22\n",
      "15    LEC      2     HARD           36\n",
      "   Driver  Stint Compound  StintLength\n",
      "24    PER      1   MEDIUM           20\n",
      "25    PER      2     HARD           38\n",
      "   Driver  Stint Compound  StintLength\n",
      "28    RUS      1   MEDIUM           23\n",
      "29    RUS      2     HARD           35\n",
      "   Driver  Stint Compound  StintLength\n",
      "9     HAM      1   MEDIUM           22\n",
      "10    HAM      2     HARD           36\n",
      "   Driver  Stint Compound  StintLength\n",
      "20    NOR      1   MEDIUM           20\n",
      "21    NOR      2     HARD           38\n",
      "   Driver  Stint Compound  StintLength\n",
      "26    RIC      1   MEDIUM           21\n",
      "27    RIC      2     HARD           37\n",
      "   Driver  Stint Compound  StintLength\n",
      "22    OCO      1   MEDIUM           17\n",
      "23    OCO      2     HARD           41\n",
      "  Driver  Stint Compound  StintLength\n",
      "5    BOT      1   MEDIUM           22\n",
      "6    BOT      2     HARD           36\n",
      "  Driver  Stint Compound  StintLength\n",
      "7    GAS      1   MEDIUM           21\n",
      "8    GAS      2     HARD           37\n",
      "  Driver  Stint Compound  StintLength\n",
      "0    ALB      1     HARD           57\n",
      "1    ALB      2     SOFT            1\n",
      "   Driver  Stint Compound  StintLength\n",
      "40    ZHO      1   MEDIUM           21\n",
      "41    ZHO      2     HARD           37\n",
      "   Driver  Stint Compound  StintLength\n",
      "31    STR      1     HARD            3\n",
      "32    STR      2   MEDIUM            1\n",
      "33    STR      3     HARD           19\n",
      "34    STR      4     HARD           35\n",
      "   Driver  Stint Compound  StintLength\n",
      "18    MSC      1   MEDIUM           14\n",
      "19    MSC      2     HARD           43\n",
      "   Driver  Stint Compound  StintLength\n",
      "16    MAG      1     HARD           39\n",
      "17    MAG      2   MEDIUM           18\n",
      "   Driver  Stint Compound  StintLength\n",
      "35    TSU      1   MEDIUM           18\n",
      "36    TSU      2     HARD           39\n",
      "   Driver  Stint Compound  StintLength\n",
      "11    LAT      1   MEDIUM           13\n",
      "12    LAT      2     HARD           10\n",
      "13    LAT      3     HARD           34\n",
      "  Driver  Stint Compound  StintLength\n",
      "2    ALO      1     HARD           39\n",
      "3    ALO      2   MEDIUM           14\n",
      "4    ALO      3   MEDIUM            4\n",
      "   Driver  Stint Compound  StintLength\n",
      "37    VER      1   MEDIUM           18\n",
      "38    VER      2     HARD           20\n",
      "   Driver  Stint Compound  StintLength\n",
      "39    VET      1     HARD           22\n",
      "   Driver  Stint Compound  StintLength\n",
      "30    SAI      1     HARD            1\n"
     ]
    },
    {
     "data": {
      "image/png": "[encoded data removed]",
      "text/plain": [
       "<Figure size 1080x720 with 1 Axes>"
      ]
     },
     "metadata": {},
     "output_type": "display_data"
    }
   ],
   "source": [
    "plt.rcParams[\"figure.figsize\"] = [15, 10]\n",
    "plt.rcParams[\"figure.autolayout\"] = True\n",
    "\n",
    "fig, ax = plt.subplots()\n",
    "\n",
    "for driver in race.results.Abbreviation:\n",
    "    stints = driver_stints.loc[driver_stints['Driver'] == driver]\n",
    "    print(stints)\n",
    "    previous_stint_end = 0\n",
    "    for _, stint in stints.iterrows():\n",
    "        plt.barh(\n",
    "            [driver], \n",
    "            stint['StintLength'], \n",
    "            left=previous_stint_end, \n",
    "            color=compound_colors[stint['Compound']], \n",
    "            edgecolor = \"black\"\n",
    "        )\n",
    "        \n",
    "        previous_stint_end = previous_stint_end + stint['StintLength']\n",
    "        \n",
    "# Set title\n",
    "plt.title(f'Tire strategy - {circuit} {year}')\n",
    "        \n",
    "# Set x-label\n",
    "plt.xlabel('Lap')\n",
    "\n",
    "# Invert y-axis \n",
    "plt.gca().invert_yaxis()\n",
    "\n",
    "# Remove frame from plot\n",
    "ax.spines['top'].set_visible(False)\n",
    "ax.spines['right'].set_visible(False)\n",
    "ax.spines['left'].set_visible(False)\n",
    "\n",
    "plt.savefig('strategy_russia.png', dpi=300)\n",
    "\n",
    "plt.show()"
   ]
  }
 ],
 "metadata": {
  "interpreter": {
   "hash": "aee8b7b246df8f9039afb4144a1f6fd8d2ca17a180786b69acc140d282b71a49"
  },
  "kernelspec": {
   "display_name": "Python 3.9.9 64-bit",
   "language": "python",
   "name": "python3"
  },
  "language_info": {
   "codemirror_mode": {
    "name": "ipython",
    "version": 3
   },
   "file_extension": ".py",
   "mimetype": "text/x-python",
   "name": "python",
   "nbconvert_exporter": "python",
   "pygments_lexer": "ipython3",
   "version": "3.9.9"
  },
  "orig_nbformat": 4
 },
 "nbformat": 4,
 "nbformat_minor": 2
}
